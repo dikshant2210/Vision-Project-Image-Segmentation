{
  "nbformat": 4,
  "nbformat_minor": 0,
  "metadata": {
    "accelerator": "GPU",
    "colab": {
      "name": "Copy of segmentation_1.ipynb",
      "provenance": [],
      "collapsed_sections": [],
      "toc_visible": true,
      "include_colab_link": true
    },
    "kernelspec": {
      "display_name": "Python 3",
      "language": "python",
      "name": "python3"
    },
    "language_info": {
      "codemirror_mode": {
        "name": "ipython",
        "version": 3
      },
      "file_extension": ".py",
      "mimetype": "text/x-python",
      "name": "python",
      "nbconvert_exporter": "python",
      "pygments_lexer": "ipython3",
      "version": "3.7.10-final"
    }
  },
  "cells": [
    {
      "cell_type": "markdown",
      "metadata": {
        "id": "view-in-github",
        "colab_type": "text"
      },
      "source": [
        "<a href=\"https://colab.research.google.com/github/pabvald/Vision-Project-Image-Segmentation/blob/pablo-task1/Vision_task_1.ipynb\" target=\"_parent\"><img src=\"https://colab.research.google.com/assets/colab-badge.svg\" alt=\"Open In Colab\"/></a>"
      ]
    },
    {
      "cell_type": "markdown",
      "metadata": {
        "id": "m6IxWe_R328L"
      },
      "source": [
        "# Image Segmentation Task 1\n",
        "#### Welcome to the first task of Image Segmentation. Image segmentation is the process of partitioning the image into a set of pixels representing an object. In this task, you will be introduced to the problem of image segmentation and programming pipeline involved in image segmentation."
      ]
    },
    {
      "cell_type": "markdown",
      "metadata": {
        "id": "ZlRautc2328S"
      },
      "source": [
        "For the purpose of this task we will be using PASCAL VOC datset. The dataset contains a total of 2913 images with segmentation annotations. Code in the cell below will download the code and extract the dataset."
      ]
    },
    {
      "cell_type": "code",
      "metadata": {
        "id": "-GB5rBnC4hjU",
        "colab": {
          "base_uri": "https://localhost:8080/"
        },
        "outputId": "9ee06380-16af-4da4-a922-90ac6b8cdae1"
      },
      "source": [
        "from google.colab import drive\n",
        "drive.mount('/content/drive')"
      ],
      "execution_count": null,
      "outputs": [
        {
          "output_type": "stream",
          "text": [
            "Mounted at /content/drive\n"
          ],
          "name": "stdout"
        }
      ]
    },
    {
      "cell_type": "code",
      "metadata": {
        "id": "zM_t4c-S3k31",
        "tags": [
          "outputPrepend"
        ]
      },
      "source": [
        "!wget http://host.robots.ox.ac.uk/pascal/VOC/voc2012/VOCtrainval_11-May-2012.tar\n",
        "!tar -xvf VOCtrainval_11-May-2012.tar"
      ],
      "execution_count": null,
      "outputs": []
    },
    {
      "cell_type": "code",
      "metadata": {
        "colab": {
          "base_uri": "https://localhost:8080/"
        },
        "id": "6lvs9XIpBaI0",
        "outputId": "5342dc42-ad9c-4734-8de2-39425dd5cd53"
      },
      "source": [
        "!pip install scipy==1.1.0"
      ],
      "execution_count": 1,
      "outputs": [
        {
          "output_type": "stream",
          "text": [
            "Requirement already satisfied: scipy==1.1.0 in /usr/local/lib/python3.7/dist-packages (1.1.0)\n",
            "Requirement already satisfied: numpy>=1.8.2 in /usr/local/lib/python3.7/dist-packages (from scipy==1.1.0) (1.19.5)\n"
          ],
          "name": "stdout"
        }
      ]
    },
    {
      "cell_type": "markdown",
      "metadata": {
        "id": "wOqzj2BY328T"
      },
      "source": [
        "### 1.1 Loading the dataset"
      ]
    },
    {
      "cell_type": "code",
      "metadata": {
        "id": "Qs8VbesPBqHL"
      },
      "source": [
        "import os\n",
        "from os.path import join as pjoin\n",
        "import collections\n",
        "import json\n",
        "import torch\n",
        "import imageio\n",
        "import numpy as np\n",
        "import scipy.misc as m\n",
        "import scipy.io as io\n",
        "import matplotlib.pyplot as plt\n",
        "import glob\n",
        "\n",
        "from PIL import Image\n",
        "from tqdm import tqdm\n",
        "import torch.nn as nn\n",
        "import torch.nn.functional as F\n",
        "import torch.optim as optim\n",
        "from torch.utils import data\n",
        "from torchvision import transforms\n",
        "from torchvision import models"
      ],
      "execution_count": 10,
      "outputs": []
    },
    {
      "cell_type": "code",
      "metadata": {
        "id": "hgZkqQc1BsdV",
        "colab": {
          "base_uri": "https://localhost:8080/"
        },
        "outputId": "3d059133-1f6d-49fc-b99c-45a5a3ecc245"
      },
      "source": [
        "%config Completer.use_jedi = False\n",
        "torch.manual_seed(0)\n",
        "np.random.seed(0)"
      ],
      "execution_count": 11,
      "outputs": []
    },
    {
      "cell_type": "markdown",
      "metadata": {
        "id": "ei34r4MhB9-o"
      },
      "source": [
        "#### pascalVOCDataset"
      ]
    },
    {
      "cell_type": "code",
      "metadata": {
        "id": "RgKQvA6u6eka"
      },
      "source": [
        "class pascalVOCDataset(data.Dataset):\n",
        "    \"\"\"Data loader for the Pascal VOC semantic segmentation dataset.\n",
        "\n",
        "    Annotations from both the original VOC data (which consist of RGB images\n",
        "    in which colours map to specific classes) and the SBD (Berkely) dataset\n",
        "    (where annotations are stored as .mat files) are converted into a common\n",
        "    `label_mask` format.  Under this format, each mask is an (M,N) array of\n",
        "    integer values from 0 to 21, where 0 represents the background class.\n",
        "\n",
        "    The label masks are stored in a new folder, called `pre_encoded`, which\n",
        "    is added as a subdirectory of the `SegmentationClass` folder in the\n",
        "    original Pascal VOC data layout.\n",
        "\n",
        "    A total of five data splits are provided for working with the VOC data:\n",
        "        train: The original VOC 2012 training data - 1464 images\n",
        "        val: The original VOC 2012 validation data - 1449 images\n",
        "        trainval: The combination of `train` and `val` - 2913 images\n",
        "        train_aug: The unique images present in both the train split and\n",
        "                   training images from SBD: - 8829 images (the unique members\n",
        "                   of the result of combining lists of length 1464 and 8498)\n",
        "        train_aug_val: The original VOC 2012 validation data minus the images\n",
        "                   present in `train_aug` (This is done with the same logic as\n",
        "                   the validation set used in FCN PAMI paper, but with VOC 2012\n",
        "                   rather than VOC 2011) - 904 images\n",
        "    \"\"\"\n",
        "\n",
        "    def __init__(\n",
        "        self,\n",
        "        root,\n",
        "        sbd_path=None,\n",
        "        split=\"train_aug\",\n",
        "        is_transform=False,\n",
        "        img_size=512,\n",
        "        augmentations=None,\n",
        "        img_norm=True,\n",
        "        test_mode=False,\n",
        "    ):\n",
        "        self.root = root\n",
        "        self.sbd_path = sbd_path\n",
        "        self.split = split\n",
        "        self.is_transform = is_transform\n",
        "        self.augmentations = augmentations\n",
        "        self.img_norm = img_norm\n",
        "        self.test_mode = test_mode\n",
        "        self.n_classes = 21\n",
        "        self.mean = np.array([104.00699, 116.66877, 122.67892])\n",
        "        self.files = collections.defaultdict(list)\n",
        "        self.img_size = img_size if isinstance(img_size, tuple) else (img_size, img_size)\n",
        "\n",
        "        if not self.test_mode:\n",
        "            for split in [\"train\", \"val\", \"trainval\"]:\n",
        "                path = pjoin(self.root, \"ImageSets/Segmentation\", split + \".txt\")\n",
        "                file_list = tuple(open(path, \"r\"))\n",
        "                file_list = [id_.rstrip() for id_ in file_list]\n",
        "                self.files[split] = file_list\n",
        "            self.setup_annotations()\n",
        "\n",
        "        self.tf = transforms.Compose(\n",
        "            [\n",
        "                # add more trasnformations as you see fit\n",
        "                transforms.ToTensor(),\n",
        "                transforms.Normalize([0.485, 0.456, 0.406], [0.229, 0.224, 0.225]),\n",
        "            ]\n",
        "        )\n",
        "\n",
        "    def __len__(self):\n",
        "        return len(self.files[self.split])\n",
        "\n",
        "    def __getitem__(self, index):\n",
        "        im_name = self.files[self.split][index]\n",
        "        im_path = pjoin(self.root, \"JPEGImages\", im_name + \".jpg\")\n",
        "        lbl_path = pjoin(self.root, \"SegmentationClass/pre_encoded\", im_name + \".png\")\n",
        "        im = Image.open(im_path)\n",
        "        lbl = Image.open(lbl_path)\n",
        "        if self.augmentations is not None:\n",
        "            im, lbl = self.augmentations(im, lbl)\n",
        "        if self.is_transform:\n",
        "            im, lbl = self.transform(im, lbl)\n",
        "        return im, torch.clamp(lbl, max=20)\n",
        "\n",
        "    def transform(self, img, lbl):\n",
        "        if self.img_size == (\"same\", \"same\"):\n",
        "            pass\n",
        "        else:\n",
        "            img = img.resize((self.img_size[0], self.img_size[1]))  # uint8 with RGB mode\n",
        "            lbl = lbl.resize((self.img_size[0], self.img_size[1]))\n",
        "        img = self.tf(img)\n",
        "        lbl = torch.from_numpy(np.array(lbl)).long()\n",
        "        lbl[lbl == 255] = 0\n",
        "        return img, lbl\n",
        "\n",
        "    def get_pascal_labels(self):\n",
        "        \"\"\"Load the mapping that associates pascal classes with label colors\n",
        "\n",
        "        Returns:\n",
        "            np.ndarray with dimensions (21, 3)\n",
        "        \"\"\"\n",
        "        return np.asarray(\n",
        "            [\n",
        "                [0, 0, 0],\n",
        "                [128, 0, 0],\n",
        "                [0, 128, 0],\n",
        "                [128, 128, 0],\n",
        "                [0, 0, 128],\n",
        "                [128, 0, 128],\n",
        "                [0, 128, 128],\n",
        "                [128, 128, 128],\n",
        "                [64, 0, 0],\n",
        "                [192, 0, 0],\n",
        "                [64, 128, 0],\n",
        "                [192, 128, 0],\n",
        "                [64, 0, 128],\n",
        "                [192, 0, 128],\n",
        "                [64, 128, 128],\n",
        "                [192, 128, 128],\n",
        "                [0, 64, 0],\n",
        "                [128, 64, 0],\n",
        "                [0, 192, 0],\n",
        "                [128, 192, 0],\n",
        "                [0, 64, 128],\n",
        "            ]\n",
        "        )\n",
        "\n",
        "    def encode_segmap(self, mask):\n",
        "        \"\"\"Encode segmentation label images as pascal classes\n",
        "\n",
        "        Args:\n",
        "            mask (np.ndarray): raw segmentation label image of dimension\n",
        "              (M, N, 3), in which the Pascal classes are encoded as colours.\n",
        "\n",
        "        Returns:\n",
        "            (np.ndarray): class map with dimensions (M,N), where the value at\n",
        "            a given location is the integer denoting the class index.\n",
        "        \"\"\"\n",
        "        mask = mask.astype(int)\n",
        "        label_mask = np.zeros((mask.shape[0], mask.shape[1]), dtype=np.int16)\n",
        "        for ii, label in enumerate(self.get_pascal_labels()):\n",
        "            label_mask[np.where(np.all(mask == label, axis=-1))[:2]] = ii\n",
        "        label_mask = label_mask.astype(int)\n",
        "        # print(np.unique(label_mask))\n",
        "        return label_mask\n",
        "\n",
        "    def decode_segmap(self, label_mask, plot=False):\n",
        "        \"\"\"Decode segmentation class labels into a color image\n",
        "\n",
        "        Args:\n",
        "            label_mask (np.ndarray): an (M,N) array of integer values denoting\n",
        "              the class label at each spatial location.\n",
        "            plot (bool, optional): whether to show the resulting color image\n",
        "              in a figure.\n",
        "\n",
        "        Returns:\n",
        "            (np.ndarray, optional): the resulting decoded color image.\n",
        "        \"\"\"\n",
        "        label_colours = self.get_pascal_labels()\n",
        "        r = label_mask.copy()\n",
        "        g = label_mask.copy()\n",
        "        b = label_mask.copy()\n",
        "        for ll in range(0, self.n_classes):\n",
        "            r[label_mask == ll] = label_colours[ll, 0]\n",
        "            g[label_mask == ll] = label_colours[ll, 1]\n",
        "            b[label_mask == ll] = label_colours[ll, 2]\n",
        "        rgb = np.zeros((label_mask.shape[0], label_mask.shape[1], 3))\n",
        "        rgb[:, :, 0] = r / 255.0\n",
        "        rgb[:, :, 1] = g / 255.0\n",
        "        rgb[:, :, 2] = b / 255.0\n",
        "        if plot:\n",
        "            plt.imshow(rgb)\n",
        "            plt.show()\n",
        "        else:\n",
        "            return rgb\n",
        "\n",
        "    def setup_annotations(self):\n",
        "        \"\"\"Sets up Berkley annotations by adding image indices to the\n",
        "        `train_aug` split and pre-encode all segmentation labels into the\n",
        "        common label_mask format (if this has not already been done). This\n",
        "        function also defines the `train_aug` and `train_aug_val` data splits\n",
        "        according to the description in the class docstring\n",
        "        \"\"\"\n",
        "        sbd_path = self.sbd_path\n",
        "        target_path = pjoin(self.root, \"SegmentationClass/pre_encoded\")\n",
        "        if not os.path.exists(target_path):\n",
        "            os.makedirs(target_path)\n",
        "        train_aug = self.files[\"train\"]\n",
        "\n",
        "        # keep unique elements (stable)\n",
        "        train_aug = [train_aug[i] for i in sorted(np.unique(train_aug, return_index=True)[1])]\n",
        "        self.files[\"train_aug\"] = train_aug\n",
        "        set_diff = set(self.files[\"val\"]) - set(train_aug)  # remove overlap\n",
        "        self.files[\"train_aug_val\"] = list(set_diff)\n",
        "\n",
        "        pre_encoded = glob.glob(pjoin(target_path, \"*.png\"))\n",
        "        expected = np.unique(self.files[\"train_aug\"] + self.files[\"val\"]).size\n",
        "\n",
        "        if len(pre_encoded) != expected:\n",
        "            print(\"Pre-encoding segmentation masks...\")\n",
        "\n",
        "            for ii in tqdm(self.files[\"trainval\"]):\n",
        "                fname = ii + \".png\"\n",
        "                lbl_path = pjoin(self.root, \"SegmentationClass\", fname)\n",
        "                lbl = self.encode_segmap(m.imread(lbl_path))\n",
        "                lbl = m.toimage(lbl, high=lbl.max(), low=lbl.min())\n",
        "                m.imsave(pjoin(target_path, fname), lbl)\n",
        "\n",
        "        assert expected == 2913, \"unexpected dataset sizes\""
      ],
      "execution_count": 12,
      "outputs": []
    },
    {
      "cell_type": "markdown",
      "metadata": {
        "id": "WYHA2piV328X"
      },
      "source": [
        "### 1.2 Define the model architecture(2.0 point)\n",
        "In this section you have the freedom to decide your own model. Keep in mind though, to perform image segmentation, you need to implement an architecture that does pixel level classification i.e. for each pixel in the image you need to predict the probability of it belonging to one of the 21 categories."
      ]
    },
    {
      "cell_type": "markdown",
      "metadata": {
        "id": "xBOheC2O4Ng9"
      },
      "source": [
        "#### Factory methods"
      ]
    },
    {
      "cell_type": "code",
      "metadata": {
        "id": "ZQv7OTvpIf84"
      },
      "source": [],
      "execution_count": 1,
      "outputs": []
    },
    {
      "cell_type": "markdown",
      "metadata": {
        "id": "LUBowY0p4Ng-"
      },
      "source": [
        "#### SegNet-Basic class"
      ]
    },
    {
      "cell_type": "code",
      "execution_count": 13,
      "metadata": {},
      "outputs": [],
      "source": [
        " INPUT_CHANNELS = 3 \n",
        " OUTPUT_CHANNELS = 21 #Number of classes\n",
        "\n",
        " ENCODER_DIMS = {\n",
        "      'block00': { 'in': [INPUT_CHANNELS, 64],'out': [64, 64] },\n",
        "      'block01': { 'in': [64, 128],       'out': [128, 128] },\n",
        "      'block02': { 'in': [128, 256, 256], 'out': [256, 256, 256] },\n",
        "      'block03': { 'in': [256, 512, 512], 'out': [512, 512, 512] },\n",
        "    }\n",
        "\n",
        " DECODER_DIMS = {\n",
        "      'block04': { 'in': [512, 512, 512], 'out': [512, 512, 512] },\n",
        "      'block03': { 'in': [512, 512, 512], 'out': [512, 512, 256] },\n",
        "      'block02': { 'in': [256, 256, 256], 'out': [256, 256, 128] },\n",
        "      'block01': { 'in': [128, 128],       'out': [128, OUTPUT_CHANNELS] },\n",
        "    }"
      ]
    },
    {
      "cell_type": "code",
      "metadata": {
        "id": "CatAsvH3GTXs"
      },
      "source": [
        "def normal_init(m, mean=0, std=1):\n",
        "  \"\"\"Initialize the weights of a layer usinga normal distribution \n",
        "    \n",
        "    Ref: https://discuss.pytorch.org/t/pytorch-how-to-initialize-weights/81511/2\n",
        "  \"\"\"\n",
        "  if isinstance(m, (nn.Linear, nn.Conv2d)):\n",
        "      m.weight.data.normal_(mean, std)\n",
        "      if m.bias.data is not None:\n",
        "          m.bias.data.zero_()\n",
        "  elif isinstance(m, (nn.BatchNorm2d, nn.BatchNorm1d)):\n",
        "      m.weight.data.fill_(1)\n",
        "      if m.bias.data is not None:\n",
        "          m.bias.data.zero_()\n",
        "\n",
        "\n",
        "class conv2DBatchNormRelu(nn.Module):\n",
        "  \"\"\" Conv2d - Batch Normalization - ReLU module \n",
        "    \n",
        "    Ref: https://www.programmersought.com/article/28751510513/\n",
        "  \"\"\"\n",
        "\n",
        "  def __init__(self, in_channels, out_channels, kernel_size, stride, padding,\n",
        "                  bias=True, dilation=1, is_batchnorm=True):\n",
        "    super(conv2DBatchNormRelu, self).__init__()\n",
        "    if is_batchnorm:\n",
        "        self.cbr_unit = nn.Sequential(\n",
        "            nn.Conv2d(in_channels, out_channels, kernel_size=kernel_size, stride=stride, padding=padding,\n",
        "                      bias=bias, dilation=dilation),\n",
        "            nn.BatchNorm2d(out_channels),\n",
        "            nn.ReLU(inplace=True),\n",
        "        )\n",
        "    else:\n",
        "        self.cbr_unit = nn.Sequential(\n",
        "            nn.Conv2d(in_channels, out_channels, kernel_size=kernel_size, stride=stride, padding=padding,\n",
        "                      bias=bias, dilation=dilation),\n",
        "            nn.ReLU(inplace=True)\n",
        "        )\n",
        "  \n",
        "  def forward(self, input):\n",
        "      output = self.cbr_unit(input)\n",
        "      return output\n",
        "\n",
        "\n",
        "class convTranspose2DBatchNorm(nn.Module):\n",
        "  \"\"\" ConvTranspose2d - Batch Normalization module \"\"\"\n",
        "\n",
        "  def __init__(self, in_channels, out_channels, kernel_size, stride, padding,\n",
        "                  bias=True, dilation=1, is_batchnorm=True):\n",
        "    super(convTranspose2DBatchNorm, self).__init__()\n",
        "    if is_batchnorm:\n",
        "        self.cbr_unit = nn.Sequential(\n",
        "            nn.ConvTranspose2d(in_channels, out_channels, kernel_size=kernel_size, stride=stride, \n",
        "                                padding=padding, bias=bias, dilation=dilation),\n",
        "            nn.BatchNorm2d(out_channels)\n",
        "        )\n",
        "    else:\n",
        "        self.cbr_unit = nn.Sequential(\n",
        "            nn.ConvTranspose2d(in_channels, out_channels, kernel_size=kernel_size, stride=stride, padding=padding,\n",
        "                      bias=bias, dilation=dilation)\n",
        "        )\n",
        "  \n",
        "  def forward(self, input):\n",
        "      output = self.cbr_unit(input)\n",
        "      return output\n",
        "\n",
        "\n",
        "class segnetBasicEncoderBlock(nn.Module):\n",
        "  \"\"\"Segnet-Basic Encoder Block module\"\"\"\n",
        "\n",
        "  def __init__(self, in_channels, out_channels):\n",
        "    super(segnetBasicEncoderBlock, self).__init__()\n",
        "    self.conv1 = conv2DBatchNormRelu(in_channels, out_channels, 7, 1, 3, bias=False)\n",
        "    self.conv2 = conv2DBatchNormRelu(out_channels, out_channels, 7, 1, 3, bias=False)\n",
        "    self.conv3 = conv2DBatchNormRelu(out_channels, out_channels, 7, 1, 3, bias=False)\n",
        "    self.conv4 = conv2DBatchNormRelu(out_channels, out_channels, 7, 1, 3, bias=False)\n",
        "    self.maxpool = nn.MaxPool2d(kernel_size=2, stride=2, return_indices=True)\n",
        "\n",
        "  def forward(self, input):\n",
        "    output = self.conv1(input)\n",
        "    output = self.conv2(output)\n",
        "    output = self.conv3(output)\n",
        "    output = self.conv4(output)\n",
        "    unpooled_size = output.size()\n",
        "    outputs, indices = self.maxpool(output)\n",
        "    return outputs, indices, unpooled_size\n",
        "\n",
        "\n",
        "class segnetBasicDecoderBlock(nn.Module):\n",
        "  \"\"\"Segnet-Basic Decoder Block module\"\"\"\n",
        "  def __init__(self, in_channels, out_channels):\n",
        "    super(segnetBasicDecoderBlock, self).__init__()\n",
        "    self.unpool = nn.MaxUnpool2d(2,2)\n",
        "    self.convTrans1 = convTranspose2DBatchNorm(in_channels, out_channels, 7, 1, 3, bias=False)\n",
        "    self.convTrans2 = convTranspose2DBatchNorm(out_channels, out_channels, 7, 1, 3, bias=False)\n",
        "    self.convTrans3 = convTranspose2DBatchNorm(out_channels, out_channels, 7, 1, 3, bias=False)\n",
        "    self.convTrans4 = convTranspose2DBatchNorm(out_channels, out_channels, 7, 1, 3, bias=False)\n",
        "\n",
        "  def forward(self, input, indices, output_size):\n",
        "    output = self.unpool(input, indices=indices, output_size=output_size)\n",
        "    output = self.convTrans1(output)\n",
        "    output = self.convTrans2(output)\n",
        "    output = self.convTrans3(output)\n",
        "    output = self.convTrans4(output)\n",
        "    return output\n",
        "\n",
        "\n",
        "class SegnetBasic1(nn.Module):\n",
        "  \"\"\"SegNet Class\"\"\"\n",
        "\n",
        "  def __init__(self, input_channels=3, output_channels=21):\n",
        "    \"\"\"Initialize an instance of SegNet\n",
        "\n",
        "      Args:\n",
        "        input_channels (int): number of input channels \n",
        "        output_channels (int): number of output channels\n",
        "    \"\"\"\n",
        "    super(SegnetBasic1, self).__init__()\n",
        "    self.enc1 = segnetBasicEncoderBlock(input_channels, 64)\n",
        "    self.dec1 = segnetBasicDecoderBlock(64, output_channels)\n",
        "    self.softmax = nn.Softmax(dim=1)\n",
        "    self.debug = False   \n",
        "\n",
        "    self.weight_init()\n",
        "\n",
        "  def forward(self, x): \n",
        "    enc1, indices1, unpool_size1 = self.enc1(x)\n",
        "\n",
        "    dec1 = self.up1(enc1, indices=indices1, output_size=unpool_size1)\n",
        "    output = self.softmax(dec1)\n",
        "\n",
        "    return dec1, output\n",
        "\n",
        "  def weight_init(self):\n",
        "    for block in self._modules:\n",
        "        try:\n",
        "            for m in self._modules[block]:\n",
        "                normal_init(m)\n",
        "        except:\n",
        "            normal_init(block)"
      ],
      "execution_count": 28,
      "outputs": []
    },
    {
      "cell_type": "code",
      "execution_count": 29,
      "metadata": {},
      "outputs": [],
      "source": [
        "model = SegnetBasic1()"
      ]
    },
    {
      "cell_type": "code",
      "execution_count": 30,
      "metadata": {},
      "outputs": [
        {
          "output_type": "execute_result",
          "data": {
            "text/plain": [
              "SegnetBasic1(\n",
              "  (enc1): segnetBasicEncoderBlock(\n",
              "    (conv1): conv2DBatchNormRelu(\n",
              "      (cbr_unit): Sequential(\n",
              "        (0): Conv2d(3, 64, kernel_size=(7, 7), stride=(1, 1), padding=(3, 3), bias=False)\n",
              "        (1): BatchNorm2d(64, eps=1e-05, momentum=0.1, affine=True, track_running_stats=True)\n",
              "        (2): ReLU(inplace=True)\n",
              "      )\n",
              "    )\n",
              "    (conv2): conv2DBatchNormRelu(\n",
              "      (cbr_unit): Sequential(\n",
              "        (0): Conv2d(64, 64, kernel_size=(7, 7), stride=(1, 1), padding=(3, 3), bias=False)\n",
              "        (1): BatchNorm2d(64, eps=1e-05, momentum=0.1, affine=True, track_running_stats=True)\n",
              "        (2): ReLU(inplace=True)\n",
              "      )\n",
              "    )\n",
              "    (conv3): conv2DBatchNormRelu(\n",
              "      (cbr_unit): Sequential(\n",
              "        (0): Conv2d(64, 64, kernel_size=(7, 7), stride=(1, 1), padding=(3, 3), bias=False)\n",
              "        (1): BatchNorm2d(64, eps=1e-05, momentum=0.1, affine=True, track_running_stats=True)\n",
              "        (2): ReLU(inplace=True)\n",
              "      )\n",
              "    )\n",
              "    (conv4): conv2DBatchNormRelu(\n",
              "      (cbr_unit): Sequential(\n",
              "        (0): Conv2d(64, 64, kernel_size=(7, 7), stride=(1, 1), padding=(3, 3), bias=False)\n",
              "        (1): BatchNorm2d(64, eps=1e-05, momentum=0.1, affine=True, track_running_stats=True)\n",
              "        (2): ReLU(inplace=True)\n",
              "      )\n",
              "    )\n",
              "    (maxpool): MaxPool2d(kernel_size=2, stride=2, padding=0, dilation=1, ceil_mode=False)\n",
              "  )\n",
              "  (dec1): segnetBasicDecoderBlock(\n",
              "    (unpool): MaxUnpool2d(kernel_size=(2, 2), stride=(2, 2), padding=(0, 0))\n",
              "    (convTrans1): convTranspose2DBatchNorm(\n",
              "      (cbr_unit): Sequential(\n",
              "        (0): ConvTranspose2d(64, 21, kernel_size=(7, 7), stride=(1, 1), padding=(3, 3), bias=False)\n",
              "        (1): BatchNorm2d(21, eps=1e-05, momentum=0.1, affine=True, track_running_stats=True)\n",
              "      )\n",
              "    )\n",
              "    (convTrans2): convTranspose2DBatchNorm(\n",
              "      (cbr_unit): Sequential(\n",
              "        (0): ConvTranspose2d(21, 21, kernel_size=(7, 7), stride=(1, 1), padding=(3, 3), bias=False)\n",
              "        (1): BatchNorm2d(21, eps=1e-05, momentum=0.1, affine=True, track_running_stats=True)\n",
              "      )\n",
              "    )\n",
              "    (convTrans3): convTranspose2DBatchNorm(\n",
              "      (cbr_unit): Sequential(\n",
              "        (0): ConvTranspose2d(21, 21, kernel_size=(7, 7), stride=(1, 1), padding=(3, 3), bias=False)\n",
              "        (1): BatchNorm2d(21, eps=1e-05, momentum=0.1, affine=True, track_running_stats=True)\n",
              "      )\n",
              "    )\n",
              "    (convTrans4): convTranspose2DBatchNorm(\n",
              "      (cbr_unit): Sequential(\n",
              "        (0): ConvTranspose2d(21, 21, kernel_size=(7, 7), stride=(1, 1), padding=(3, 3), bias=False)\n",
              "        (1): BatchNorm2d(21, eps=1e-05, momentum=0.1, affine=True, track_running_stats=True)\n",
              "      )\n",
              "    )\n",
              "  )\n",
              "  (softmax): Softmax(dim=1)\n",
              ")"
            ]
          },
          "metadata": {},
          "execution_count": 30
        }
      ],
      "source": [
        "model"
      ]
    },
    {
      "cell_type": "code",
      "metadata": {
        "id": "LFzbRkhX328b"
      },
      "source": [
        "local_path = 'VOCdevkit/VOC2012/' # modify it according to your device\n",
        "bs = 25\n",
        "epochs =  1"
      ],
      "execution_count": 15,
      "outputs": []
    },
    {
      "cell_type": "markdown",
      "metadata": {
        "id": "hb1Z77zX328b"
      },
      "source": [
        "### 1.4 Dataset and Dataloader(0.5 points)\n",
        "Create the dataset using pascalVOCDataset class defined above. Use local_path defined in the cell above as root. "
      ]
    },
    {
      "cell_type": "code",
      "metadata": {
        "id": "rVj1nGEk328c",
        "colab": {
          "base_uri": "https://localhost:8080/"
        },
        "outputId": "cda663ca-a8e7-4a24-8414-806186a01b50"
      },
      "source": [
        "# dataset variable\n",
        "training_data = pascalVOCDataset(local_path, split=\"train\", is_transform=True)\n",
        "validation_data = pascalVOCDataset(local_path, split=\"val\", is_transform=True)\n",
        "\n",
        "print(\"Training data instances: \", len(training_data))\n",
        "print(\"Validation data instances:\", len(validation_data))"
      ],
      "execution_count": 16,
      "outputs": [
        {
          "output_type": "stream",
          "name": "stdout",
          "text": [
            "Training data instances:  1464\nValidation data instances: 1449\n"
          ]
        }
      ]
    },
    {
      "cell_type": "code",
      "metadata": {
        "id": "POXshZpj3j9j"
      },
      "source": [
        "trainloader = data.DataLoader(training_data, batch_size=bs, shuffle=True, num_workers=0)\n",
        "valloader = data.DataLoader(validation_data, batch_size=bs, shuffle=True, num_workers=0)"
      ],
      "execution_count": 17,
      "outputs": []
    },
    {
      "cell_type": "markdown",
      "metadata": {
        "id": "DXGaI5DX328c"
      },
      "source": [
        "### 1.5 Loss fuction and Optimizer(1.0 point)\n",
        "Define below with the loss function you think would be most suitable for segmentation task. You are free to choose any optimizer to train the network."
      ]
    },
    {
      "cell_type": "code",
      "metadata": {
        "id": "Kd2FT1Il328c"
      },
      "source": [
        "# loss function\n",
        "loss_f = nn.CrossEntropyLoss()\n",
        "\n",
        "# optimizer variable\n",
        "opt = optim.LBFGS(model.parameters())"
      ],
      "execution_count": 12,
      "outputs": []
    },
    {
      "cell_type": "markdown",
      "metadata": {
        "id": "9GeCkXip328c"
      },
      "source": [
        "### 1.6 Training the model(3.0 points)\n",
        "Your task here is to complete the code below to perform a training loop and save the model weights after each epoch of training."
      ]
    },
    {
      "cell_type": "code",
      "metadata": {
        "id": "NuNg5Ak74NhC",
        "outputId": "d62b3834-535b-4738-8582-106b2d819dcd",
        "colab": {
          "base_uri": "https://localhost:8080/"
        }
      },
      "source": [
        "input, labels = next(iter(trainloader))\n",
        "input.size()"
      ],
      "execution_count": 31,
      "outputs": [
        {
          "output_type": "execute_result",
          "data": {
            "text/plain": [
              "torch.Size([25, 3, 512, 512])"
            ]
          },
          "metadata": {},
          "execution_count": 31
        }
      ]
    },
    {
      "cell_type": "code",
      "metadata": {
        "id": "JF7rxT4d4NhC",
        "outputId": "42c5c93c-6435-4f37-aaa1-52d1cc0788e9",
        "colab": {
          "base_uri": "https://localhost:8080/"
        }
      },
      "source": [
        "decoding, output = model.forward(input)"
      ],
      "execution_count": null,
      "outputs": [
        {
          "output_type": "stream",
          "text": [
            "Initiating forward pass\n",
            "dim00 =  torch.Size([12, 3, 512, 512])\n",
            "dim01 =  torch.Size([12, 64, 256, 256])\n",
            "dim02 =  torch.Size([12, 128, 128, 128])\n",
            "dim03 =  torch.Size([12, 256, 64, 64])\n",
            "dim04 =  torch.Size([12, 512, 32, 32])\n",
            "Endoded\n"
          ],
          "name": "stdout"
        }
      ]
    },
    {
      "cell_type": "code",
      "metadata": {
        "id": "vtrXN22B4NhD"
      },
      "source": [
        "output.size()"
      ],
      "execution_count": null,
      "outputs": []
    },
    {
      "cell_type": "code",
      "metadata": {
        "id": "Xz08hSdPKODm"
      },
      "source": [
        "for _ in range(epochs):\n",
        "  for i, d in enumerate(trainloader):\n",
        "    # your code goes here"
      ],
      "execution_count": null,
      "outputs": []
    },
    {
      "cell_type": "markdown",
      "metadata": {
        "id": "4tXAA4jQ328d"
      },
      "source": [
        "### 1.7 Evaluate your model(1.5 points)\n",
        "In this section you have to implement the evaluation metrics for your model. Calculate the values of F1-score, dice coefficient and AUC-ROC score on the data you used for training. You can use external packages like scikit-learn to compute above metrics."
      ]
    },
    {
      "cell_type": "code",
      "metadata": {
        "id": "KyVBhE_K328d"
      },
      "source": [
        "def evaluate(ground_truth, predictions):\n",
        "    \n",
        "    return f1_score, auc_score, dice_coeeficient"
      ],
      "execution_count": null,
      "outputs": []
    },
    {
      "cell_type": "markdown",
      "metadata": {
        "id": "GimQrA6S328d"
      },
      "source": [
        "### 1.8 Plot the evaluation metrics against epochs(1.0)\n",
        "In section 1.6 we saved the weights of the model after each epoch. In this section, you have to calculate the evaluation metrics after each epoch of training by loading the weights for each epoch. Once you have calculated the evaluation metrics for each epoch, plot them against the epochs."
      ]
    },
    {
      "cell_type": "code",
      "metadata": {
        "id": "I9lEY66w328d"
      },
      "source": [],
      "execution_count": null,
      "outputs": []
    },
    {
      "cell_type": "markdown",
      "metadata": {
        "id": "GqzsNJHz328e"
      },
      "source": [
        "### 1.9 Visualize results(0.5 points)\n",
        "For any 10 images in the dataset, show the images along the with their segmentation mask."
      ]
    },
    {
      "cell_type": "code",
      "metadata": {
        "id": "3NS50IL_c7Mf"
      },
      "source": [],
      "execution_count": null,
      "outputs": []
    }
  ]
}